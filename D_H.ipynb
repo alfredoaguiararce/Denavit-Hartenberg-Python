{
  "nbformat": 4,
  "nbformat_minor": 0,
  "metadata": {
    "colab": {
      "name": "D-H.ipynb",
      "provenance": [],
      "authorship_tag": "ABX9TyPnEiaf93TFUHDpom2AgyMK",
      "include_colab_link": true
    },
    "kernelspec": {
      "name": "python3",
      "display_name": "Python 3"
    }
  },
  "cells": [
    {
      "cell_type": "markdown",
      "metadata": {
        "id": "view-in-github",
        "colab_type": "text"
      },
      "source": [
        "<a href=\"https://colab.research.google.com/github/alfredoaguiararce/Denavit-Hartenberg-Python/blob/main/D_H.ipynb\" target=\"_parent\"><img src=\"https://colab.research.google.com/assets/colab-badge.svg\" alt=\"Open In Colab\"/></a>"
      ]
    },
    {
      "cell_type": "markdown",
      "metadata": {
        "id": "k0P5vcuYM0dQ"
      },
      "source": [
        "**Método de Denavit-Hartenberg**\r\n",
        "\r\n",
        "---\r\n",
        "\r\n",
        "El siguiente programa muestra la obtencion de matrices de rotacion por el método de **Denavit-Hartenberg**.\r\n",
        "\r\n",
        "Este algoritmo ha sido desarrollado como parte del curso de la materia de Robotica, por **Alfredo Aguiar Arce**\r\n",
        "\r\n",
        "[Adjunto mi repositorio de github](https://)\r\n"
      ]
    },
    {
      "cell_type": "markdown",
      "metadata": {
        "id": "3sdz9aKJR1Mw"
      },
      "source": [
        "**1.- Se importan las liberias necesarias para calculos matriciales y representacion simbolica de variables.**"
      ]
    },
    {
      "cell_type": "code",
      "metadata": {
        "id": "D5s8ZAlxPq24"
      },
      "source": [
        "import numpy as np\r\n",
        "import math\r\n",
        "import sympy\r\n",
        "from sympy.solvers import solve"
      ],
      "execution_count": 39,
      "outputs": []
    },
    {
      "cell_type": "markdown",
      "metadata": {
        "id": "ZHiuDD6YSGHV"
      },
      "source": [
        "**2.- Se declaran las variables simbolicas a utilizar en caso de ser necesario.**"
      ]
    },
    {
      "cell_type": "code",
      "metadata": {
        "id": "smFLyQ4wSQRj"
      },
      "source": [
        "init_printing()\r\n",
        "x, y, z = symbols(\"x, y, z\")"
      ],
      "execution_count": 57,
      "outputs": []
    },
    {
      "cell_type": "markdown",
      "metadata": {
        "id": "vD9bpievXGSN"
      },
      "source": [
        "**3.- Funciones para obetner las matrices de rotacion de sobre cada eje siendo.**\r\n",
        "\r\n",
        "*   Rx = Rotacion en eje X.\r\n",
        "*   Ry = Rotacion en eje Y.\r\n",
        "*   Rz = Rotacion en eje Z.\r\n"
      ]
    },
    {
      "cell_type": "code",
      "metadata": {
        "id": "ed0Wcr_4Mffz"
      },
      "source": [
        "def Rx(alfai):\r\n",
        "  \"\"\"\r\n",
        "  Rotacion en X\r\n",
        "  Rx = Rotacion alrededor del eje Xi-1 un angulo Alfa subinice i.\r\n",
        "  alfai = Angulo Alfa subindice i. \r\n",
        "  \"\"\"\r\n",
        "  Rx = np.array([[1,0,0,0],[0,sympy.cos(alfai),-sympy.sin(alfai),0],[0,0,0,1]])\r\n",
        "  return Rx"
      ],
      "execution_count": 58,
      "outputs": []
    },
    {
      "cell_type": "code",
      "metadata": {
        "colab": {
          "base_uri": "https://localhost:8080/"
        },
        "id": "GtJsDk2CQ1X_",
        "outputId": "b6d457fb-1bc9-49b2-f663-3096c7c8dac1"
      },
      "source": [
        "rx = Rx(x)\r\n",
        "print(rx)"
      ],
      "execution_count": 56,
      "outputs": [
        {
          "output_type": "stream",
          "text": [
            "[[1 0 0 0]\n",
            " [0 cos(x) -sin(x) 0]\n",
            " [0 0 0 1]]\n"
          ],
          "name": "stdout"
        }
      ]
    }
  ]
}