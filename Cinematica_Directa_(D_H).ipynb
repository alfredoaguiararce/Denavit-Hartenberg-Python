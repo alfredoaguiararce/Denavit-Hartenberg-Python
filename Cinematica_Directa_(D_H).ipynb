{
  "nbformat": 4,
  "nbformat_minor": 0,
  "metadata": {
    "colab": {
      "name": "Cinematica Directa (D-H).ipynb",
      "provenance": [],
      "collapsed_sections": [],
      "authorship_tag": "ABX9TyO7zYxJV9Lz/P/XoRricgTp",
      "include_colab_link": true
    },
    "kernelspec": {
      "name": "python3",
      "display_name": "Python 3"
    }
  },
  "cells": [
    {
      "cell_type": "markdown",
      "metadata": {
        "id": "view-in-github",
        "colab_type": "text"
      },
      "source": [
        "<a href=\"https://colab.research.google.com/github/alfredoaguiararce/Denavit-Hartenberg-Python/blob/main/Cinematica_Directa_(D_H).ipynb\" target=\"_parent\"><img src=\"https://colab.research.google.com/assets/colab-badge.svg\" alt=\"Open In Colab\"/></a>"
      ]
    },
    {
      "cell_type": "markdown",
      "metadata": {
        "id": "k0P5vcuYM0dQ"
      },
      "source": [
        "**Método de Denavit-Hartenberg**\r\n",
        "\r\n",
        "---\r\n",
        "\r\n",
        "El siguiente programa muestra la obtencion de matrices de rotacion por el método de **Denavit-Hartenberg**.\r\n",
        "\r\n",
        "Este algoritmo ha sido desarrollado como parte del curso de la materia de Robotica, por **Alfredo Aguiar Arce**\r\n",
        "\r\n",
        "[Adjunto mi repositorio de github](https://)\r\n"
      ]
    },
    {
      "cell_type": "markdown",
      "metadata": {
        "id": "3sdz9aKJR1Mw"
      },
      "source": [
        "**1.- Se importan las liberias necesarias para calculos matriciales y representacion simbolica de variables.**"
      ]
    },
    {
      "cell_type": "code",
      "metadata": {
        "id": "D5s8ZAlxPq24"
      },
      "source": [
        "import numpy as np\r\n",
        "import math\r\n",
        "import sympy as sp\r\n",
        "from sympy.solvers import solve"
      ],
      "execution_count": 59,
      "outputs": []
    },
    {
      "cell_type": "markdown",
      "metadata": {
        "id": "ZHiuDD6YSGHV"
      },
      "source": [
        "**2.- Se declaran las variables simbolicas a utilizar en caso de ser necesario.**"
      ]
    },
    {
      "cell_type": "code",
      "metadata": {
        "id": "smFLyQ4wSQRj"
      },
      "source": [
        "init_printing()\r\n",
        "x, y, z = symbols(\"x, y, z\")"
      ],
      "execution_count": 57,
      "outputs": []
    },
    {
      "cell_type": "markdown",
      "metadata": {
        "id": "vD9bpievXGSN"
      },
      "source": [
        "**3.- Funciones para obetner las matrices de rotacion de sobre cada eje siendo.**\r\n",
        "\r\n",
        "*   Rx = Rotacion en eje X.\r\n",
        "*   Rz = Rotacion en eje Z.\r\n"
      ]
    },
    {
      "cell_type": "code",
      "metadata": {
        "id": "ed0Wcr_4Mffz"
      },
      "source": [
        "def Rx(alfai):\r\n",
        "  \"\"\"\r\n",
        "  Rotacion en X\r\n",
        "  Rx = Rotacion alrededor del eje Xi-1 un angulo Alfa subinice i.\r\n",
        "  alfai = Angulo Alfa subindice i. \r\n",
        "  \"\"\"\r\n",
        "  Rx = np.array([[1,0,0,0],\r\n",
        "                 [0,sp.cos(alfai),-sp.sin(alfai),0],\r\n",
        "                 [0,sp.sin(alfai),sp.cos(alfai),0],\r\n",
        "                 [0,0,0,1]])\r\n",
        "  return Rx\r\n",
        "\r\n",
        "def Rz(Omegai):\r\n",
        "  \"\"\"\r\n",
        "  Rotacion en Z\r\n",
        "  Rz = Rotacion alrededor del eje Zi-1 un angulo Omega subinice i.\r\n",
        "  Oi = Angulo Omega subindice i.\r\n",
        "  \"\"\"\r\n",
        "  Rz = np.array([[sp.cos(Omegai),-sp.sin(Omegai),0,0],\r\n",
        "                 [sp.sin(Omegai),sp.cos(Omegai),0,0],\r\n",
        "                 [0,0,1,0],\r\n",
        "                 [0,0,0,1]]) \r\n",
        "  return Rz"
      ],
      "execution_count": 63,
      "outputs": []
    },
    {
      "cell_type": "markdown",
      "metadata": {
        "id": "NLzYLIAHcQVy"
      },
      "source": [
        "**4.-Funciones para obtener las matrices de traslacion en cada plano.**\r\n",
        "\r\n",
        "\r\n",
        "*   Tx = Traslacion a lo largo de X.\r\n",
        "*   Tz = Traslacion a lo largo de Z.\r\n",
        "\r\n"
      ]
    },
    {
      "cell_type": "code",
      "metadata": {
        "id": "40dwdt35cywe"
      },
      "source": [
        "def Tx (ai):\r\n",
        "  \"\"\"\r\n",
        "    Tx = Translacion a lo largo de Xi-1 una distancia ai, Vector ai(ai,0,0)\r\n",
        "    ai = distancia ai\r\n",
        "  \"\"\"\r\n",
        "  Tx = np.array([[1,0,0,ai],\r\n",
        "               [0,1,0,0],\r\n",
        "               [0,0,1,0],\r\n",
        "               [0,0,0,1]])\r\n",
        "  return Tx\r\n",
        "\r\n",
        "def Tz(di):\r\n",
        "  \"\"\"\r\n",
        "  Tz = Translacion a lo largo de Zi-1 una distancia di, Vector di(0,0,di)\r\n",
        "  di = distancia di\r\n",
        "  \"\"\"\r\n",
        "  Tz = np.array([[1,0,0,0],\r\n",
        "                 [0,1,0,0],\r\n",
        "                 [0,0,1,di],\r\n",
        "                 [0,0,0,1]])\r\n",
        "  return Tz"
      ],
      "execution_count": 66,
      "outputs": []
    }
  ]
}