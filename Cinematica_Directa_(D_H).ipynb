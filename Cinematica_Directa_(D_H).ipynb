{
  "nbformat": 4,
  "nbformat_minor": 0,
  "metadata": {
    "colab": {
      "name": "Cinematica Directa (D-H).ipynb",
      "provenance": [],
      "collapsed_sections": [],
      "authorship_tag": "ABX9TyOXNc9YvvkcFVapfPiCSWgE",
      "include_colab_link": true
    },
    "kernelspec": {
      "name": "python3",
      "display_name": "Python 3"
    }
  },
  "cells": [
    {
      "cell_type": "markdown",
      "metadata": {
        "id": "view-in-github",
        "colab_type": "text"
      },
      "source": [
        "<a href=\"https://colab.research.google.com/github/alfredoaguiararce/Denavit-Hartenberg-Python/blob/main/Cinematica_Directa_(D_H).ipynb\" target=\"_parent\"><img src=\"https://colab.research.google.com/assets/colab-badge.svg\" alt=\"Open In Colab\"/></a>"
      ]
    },
    {
      "cell_type": "markdown",
      "metadata": {
        "id": "k0P5vcuYM0dQ"
      },
      "source": [
        "**Método de Denavit-Hartenberg**\r\n",
        "\r\n",
        "---\r\n",
        "\r\n",
        "El siguiente programa muestra la obtencion de matrices de rotacion por el método de **Denavit-Hartenberg**.\r\n",
        "\r\n",
        "Este algoritmo ha sido desarrollado como parte del curso de la materia de Robotica, por **Alfredo Aguiar Arce**\r\n",
        "\r\n",
        "[Adjunto mi repositorio de github](https://)\r\n"
      ]
    },
    {
      "cell_type": "markdown",
      "metadata": {
        "id": "3sdz9aKJR1Mw"
      },
      "source": [
        "**1.- Se importan las liberias necesarias para calculos matriciales y representacion simbolica de variables.**"
      ]
    },
    {
      "cell_type": "code",
      "metadata": {
        "id": "D5s8ZAlxPq24"
      },
      "source": [
        "import numpy as np\r\n",
        "import math\r\n",
        "import sympy as sp\r\n",
        "from sympy.solvers import solve"
      ],
      "execution_count": 90,
      "outputs": []
    },
    {
      "cell_type": "markdown",
      "metadata": {
        "id": "ZHiuDD6YSGHV"
      },
      "source": [
        "**2.- Se declaran las variables simbolicas a utilizar en caso de ser necesario.**"
      ]
    },
    {
      "cell_type": "code",
      "metadata": {
        "id": "smFLyQ4wSQRj"
      },
      "source": [
        "init_printing()\r\n",
        "q_1,q_2,l_1 = symbols(\"q_1, q_2,l_1\")"
      ],
      "execution_count": 91,
      "outputs": []
    },
    {
      "cell_type": "markdown",
      "metadata": {
        "id": "vD9bpievXGSN"
      },
      "source": [
        "**3.- Funciones para obetner las matrices de rotacion de sobre cada eje siendo.**\r\n",
        "\r\n",
        "*   Rx = Rotacion en eje X.\r\n",
        "*   Rz = Rotacion en eje Z.\r\n"
      ]
    },
    {
      "cell_type": "code",
      "metadata": {
        "id": "ed0Wcr_4Mffz"
      },
      "source": [
        "def Rx(alfai):\r\n",
        "  \"\"\"\r\n",
        "  Rotacion en X\r\n",
        "  Rx = Rotacion alrededor del eje Xi-1 un angulo Alfa subinice i.\r\n",
        "  alfai = Angulo Alfa subindice i. \r\n",
        "  \"\"\"\r\n",
        "  Rx = np.array([[1,0,0,0],\r\n",
        "                 [0,sp.cos(alfai),-sp.sin(alfai),0],\r\n",
        "                 [0,sp.sin(alfai),sp.cos(alfai),0],\r\n",
        "                 [0,0,0,1]])\r\n",
        "  return Rx\r\n",
        "\r\n",
        "def Rz(Omegai):\r\n",
        "  \"\"\"\r\n",
        "  Rotacion en Z\r\n",
        "  Rz = Rotacion alrededor del eje Zi-1 un angulo Omega subinice i.\r\n",
        "  Oi = Angulo Omega subindice i.\r\n",
        "  \"\"\"\r\n",
        "  Rz = np.array([[sp.cos(Omegai),-sp.sin(Omegai),0,0],\r\n",
        "                 [sp.sin(Omegai),sp.cos(Omegai),0,0],\r\n",
        "                 [0,0,1,0],\r\n",
        "                 [0,0,0,1]]) \r\n",
        "  return Rz"
      ],
      "execution_count": 92,
      "outputs": []
    },
    {
      "cell_type": "markdown",
      "metadata": {
        "id": "NLzYLIAHcQVy"
      },
      "source": [
        "**4.-Funciones para obtener las matrices de traslacion en cada plano.**\r\n",
        "\r\n",
        "\r\n",
        "*   Tx = Traslacion a lo largo de X.\r\n",
        "*   Tz = Traslacion a lo largo de Z.\r\n",
        "\r\n"
      ]
    },
    {
      "cell_type": "code",
      "metadata": {
        "id": "40dwdt35cywe"
      },
      "source": [
        "def Tx (ai):\r\n",
        "  \"\"\"\r\n",
        "    Tx = Translacion a lo largo de Xi-1 una distancia ai, Vector ai(ai,0,0)\r\n",
        "    ai = distancia ai\r\n",
        "  \"\"\"\r\n",
        "  Tx = np.array([[1,0,0,ai],\r\n",
        "               [0,1,0,0],\r\n",
        "               [0,0,1,0],\r\n",
        "               [0,0,0,1]])\r\n",
        "  return Tx\r\n",
        "\r\n",
        "def Tz(di):\r\n",
        "  \"\"\"\r\n",
        "  Tz = Translacion a lo largo de Zi-1 una distancia di, Vector di(0,0,di)\r\n",
        "  di = distancia di\r\n",
        "  \"\"\"\r\n",
        "  Tz = np.array([[1,0,0,0],\r\n",
        "                 [0,1,0,0],\r\n",
        "                 [0,0,1,di],\r\n",
        "                 [0,0,0,1]])\r\n",
        "  return Tz"
      ],
      "execution_count": 93,
      "outputs": []
    },
    {
      "cell_type": "markdown",
      "metadata": {
        "id": "bilGfS6zeesu"
      },
      "source": [
        "**5.- Método por cinematica directa**"
      ]
    },
    {
      "cell_type": "code",
      "metadata": {
        "id": "yLCb6NBaergS"
      },
      "source": [
        "def CinematicaDirectaDH(DH):\r\n",
        "  \"\"\"\r\n",
        "    Esta funcion regressa una matriz homogenea DH\r\n",
        "    Donde : \r\n",
        "      DH = Matriz DH que pasamos.\r\n",
        "      [H] = La matriz que se regresa al terminar las operaciones.\r\n",
        "  \"\"\"\r\n",
        "\r\n",
        "  #Esta matriz evita que el algoritmo no funcione la primra vez que es ejecutado\r\n",
        "  dimension = (4,4)\r\n",
        "  A = np.ones(a); #Se crea una matriz identidad de n*n es decir 4 columnas RZ,TZ,TX,RX\r\n",
        "  \r\n",
        "  for i in range(len(DH)):\r\n",
        "      #Denavit-HerHartenberg\r\n",
        "      print('Matriz A')\r\n",
        "      print(i)\r\n",
        "      A = A * (Rz(DH[i][0])*Tz(DH[i][1])*Tx(DH[i][2])*Rx(DH[i][3]));\r\n",
        "      print(A);"
      ],
      "execution_count": 107,
      "outputs": []
    },
    {
      "cell_type": "markdown",
      "metadata": {
        "id": "goWYdIUM9kKF"
      },
      "source": [
        "**6.- Implementación.**"
      ]
    },
    {
      "cell_type": "code",
      "metadata": {
        "colab": {
          "base_uri": "https://localhost:8080/"
        },
        "id": "TyIgGrQp9g2B",
        "outputId": "977ea3ad-8d11-4018-914f-4125a0110031"
      },
      "source": [
        "#Se define la matriz de los parametros optenidos para este caso:\r\n",
        "DH = np.array([[q_1 + (math.pi/2),0,0,math.pi/2],\r\n",
        "               [0, l_1 + q_2,0,0]])\r\n",
        "#Imprimimos para comprobar que se encuentre como deseamos la matriz\r\n",
        "print(f\"La matriz de Denavit-H, a evaluar es {DH}\")\r\n",
        "\r\n",
        "#Llamos a la funcion CinematicaDirectaDH() para obtener el resultado\r\n",
        "CinematicaDirectaDH(DH)"
      ],
      "execution_count": 108,
      "outputs": [
        {
          "output_type": "stream",
          "text": [
            "La matriz de Denavit-H, a evaluar es [[q_1 + 1.5707963267949 0 0 1.5707963267948966]\n",
            " [0 l_1 + q_2 0 0]]\n",
            "Matriz A\n",
            "0\n",
            "[[1.0*cos(q_1 + 1.5707963267949) 0 0.0 0.0]\n",
            " [0 6.12323399573677e-17*cos(q_1 + 1.5707963267949) 0 0.0]\n",
            " [0.0 0 6.12323399573677e-17 0.0]\n",
            " [0.0 0.0 0.0 1.0]]\n",
            "Matriz A\n",
            "1\n",
            "[[1.0*cos(q_1 + 1.5707963267949) 0 0.0 0.0]\n",
            " [0 6.12323399573677e-17*cos(q_1 + 1.5707963267949) 0 0.0]\n",
            " [0.0 0 6.12323399573677e-17 0]\n",
            " [0.0 0.0 0.0 1.0]]\n"
          ],
          "name": "stdout"
        }
      ]
    }
  ]
}