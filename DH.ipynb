{
 "cells": [
  {
   "cell_type": "markdown",
   "metadata": {},
   "source": [
    "# Método de Denavit-Hartenberg\n",
    "\n",
    "---\n",
    "\n",
    "El siguiente programa muestra la obtencion de matrices de rotacion por el método de **Denavit-Hartenberg**.\n",
    "\n",
    "Este algoritmo ha sido desarrollado como parte del curso de la materia de Robotica, por **Alfredo Aguiar Arce**\n",
    "\n",
    "[Repositorio de github, para clonar el proyecto.](https://github.com/alfredoaguiararce/Denavit-Hartenberg-Python)\n",
    "\n",
    "---\n",
    "\n",
    "En este proyecto se tratara un ejemplo obtenido del libro  'Fundamentos de robotica' de los autores Antonio Barrientos / Carlos Balaguer / Luis Felipe Peñin / Rafael Aracil Santoja.\n",
    "\n",
    "---\n",
    "\n",
    "El modelo cinematico analizado en este ejemplo corresponde al siguiente.\n",
    "\n",
    "<img src = './img/robot_ejemplo.png'/>"
   ]
  },
  {
   "cell_type": "markdown",
   "metadata": {},
   "source": [
    "#### 1.- Se importan las liberias necesarias para calculos matriciales y representacion simbolica de variables."
   ]
  },
  {
   "cell_type": "code",
   "execution_count": 6,
   "metadata": {},
   "outputs": [],
   "source": [
    "# importamos las librerías necesarias\n",
    "import sympy as sp  # librería para cálculo simbólico\n",
    "import numpy as np\n",
    "\n",
    "from sympy.physics.vector import init_vprinting\n",
    "init_vprinting(use_latex='mathjax', pretty_print=False)\n",
    "from sympy.physics.mechanics import dynamicsymbols"
   ]
  },
  {
   "cell_type": "markdown",
   "metadata": {},
   "source": [
    "#### 2.- Declaracion de variables simbolicas para obtencion de matriz DH.\n",
    "---\n",
    "\n",
    "Las variables simbolicas representan las elegidas por el autor del libro ya mencionado, en resumen trataremos de obtener la matriz de Denavit-H(DH). Cuyas variables son las mostradas en el libro, dicha matriz esta representada por la ecuacion matricial siguiente.\n",
    "<br>\n",
    "<img src='./img/ecuacion.png'/>\n",
    "Cuya interpretacion es :\n",
    "\n",
    "1. Rotación alrededor del eje zi–1 un ángulo θi.\n",
    "2. Traslación a lo largo de zi–1 una distancia di; vector di (0,0,di).\n",
    "3. Traslación a lo largo de xi una distancia ai; vector ai (ai,0,0).\n",
    "4. Rotación alrededor del eje xi un ángulo αi.\n",
    "\n",
    "---\n",
    "\n",
    "Cuyo resultado debe estar representado por la matriz siguiente.\n",
    "<br>\n",
    "<img src='./img/tabla_dh.png'/>\n",
    "\n",
    "---\n",
    "\n",
    "A continuacion demostraremos lo explicado , con su resolucion por codigo."
   ]
  },
  {
   "cell_type": "code",
   "execution_count": 7,
   "metadata": {},
   "outputs": [
    {
     "data": {
      "text/latex": [
       "$\\displaystyle \\left( \\theta_{1}, \\  \\theta_{2}, \\  l_{1}, \\  l_{2}, \\  \\theta, \\  \\alpha, \\  a, \\  d\\right)$"
      ],
      "text/plain": [
       "(theta1, theta2, l1, l2, theta, alpha, a, d)"
      ]
     },
     "execution_count": 7,
     "metadata": {},
     "output_type": "execute_result"
    }
   ],
   "source": [
    "theta1, theta2, l1, l2, theta, alpha, a, d = dynamicsymbols('theta1 theta2 l1 l2 theta alpha a d')\n",
    "theta1, theta2, l1, l2, theta, alpha, a, d "
   ]
  },
  {
   "cell_type": "markdown",
   "metadata": {},
   "source": [
    "#### 3.- Desarrollo de funciones para obetner las matrices de rotacion y traslación.\n",
    "\n",
    "*   rz = Rotacion en eje Z.\n",
    "*   rx = Rotacion en eje X.\n",
    "*   tz = Traslación en eje Z.\n",
    "*   tx = Traslación en eje X."
   ]
  },
  {
   "cell_type": "code",
   "execution_count": 8,
   "metadata": {},
   "outputs": [
    {
     "data": {
      "text/latex": [
       "$\\displaystyle \\left[\\begin{matrix}\\operatorname{cos}\\left(\\theta\\right) & - \\operatorname{sin}\\left(\\theta\\right) \\operatorname{cos}\\left(\\alpha\\right) & \\operatorname{sin}\\left(\\alpha\\right) \\operatorname{sin}\\left(\\theta\\right) & a \\operatorname{cos}\\left(\\theta\\right)\\\\\\operatorname{sin}\\left(\\theta\\right) & \\operatorname{cos}\\left(\\alpha\\right) \\operatorname{cos}\\left(\\theta\\right) & - \\operatorname{sin}\\left(\\alpha\\right) \\operatorname{cos}\\left(\\theta\\right) & a \\operatorname{sin}\\left(\\theta\\right)\\\\0 & \\operatorname{sin}\\left(\\alpha\\right) & \\operatorname{cos}\\left(\\alpha\\right) & d\\\\0 & 0 & 0 & 1\\end{matrix}\\right]$"
      ],
      "text/plain": [
       "Matrix([\n",
       "[cos(theta), -sin(theta)*cos(alpha),  sin(alpha)*sin(theta), a*cos(theta)],\n",
       "[sin(theta),  cos(alpha)*cos(theta), -sin(alpha)*cos(theta), a*sin(theta)],\n",
       "[         0,             sin(alpha),             cos(alpha),            d],\n",
       "[         0,                      0,                      0,            1]])"
      ]
     },
     "execution_count": 8,
     "metadata": {},
     "output_type": "execute_result"
    }
   ],
   "source": [
    "#Definimos las matrices de rotacion y traslacion correspondientes\n",
    "\n",
    "#Rotacion en Z\n",
    "rz = sp.Matrix([[sp.cos(theta),-sp.sin(theta),0,0],\n",
    "               [sp.sin(theta),sp.cos(theta),0,0],\n",
    "               [0,0,1,0],\n",
    "               [0,0,0,1]])\n",
    "\n",
    "#Traslacion en Z\n",
    "tz = sp.Matrix([[1,0,0,0],\n",
    "               [0,1,0,0],\n",
    "               [0,0,1,d],\n",
    "               [0,0,0,1]])\n",
    "\n",
    "#Traslacion en X\n",
    "tx = sp.Matrix([[1,0,0,a],\n",
    "               [0,1,0,0],\n",
    "               [0,0,1,0],\n",
    "               [0,0,0,1]])\n",
    "\n",
    "#Rotacion en X\n",
    "rx = sp.Matrix([[1,0,0,0],\n",
    "               [0,sp.cos(alpha),-sp.sin(alpha),0],\n",
    "               [0,sp.sin(alpha),sp.cos(alpha),0],\n",
    "               [0,0,0,1]])\n",
    "\n",
    "#Ecuacion matricial para obtener DH\n",
    "DH = rz*tz*tx*rx\n",
    "#Se muestra la matriz DH resultado de la operacion anterior\n",
    "DH\n",
    "\n"
   ]
  },
  {
   "cell_type": "markdown",
   "metadata": {},
   "source": [
    "#### 4. Declaracion de variables simbolicas para el problema a analizar.\n",
    "\n",
    "---\n",
    "Estas variables van a depender del problema cinematico que estes analizando, es decir tu propio analisis y sistema, para obtencion de la tabla de parametros Denavit-H. \n",
    "<br>\n",
    "En este caso obtendremos la matriz DH, para el sistema del robot polar (3GDL) mostrado en la fig 4.11.\n",
    "\n",
    "---\n",
    "\n",
    "Dicha tabla es la siguiente. \n",
    "\n",
    "<img src=\"./img/tabla_ejemplo.png\">\n"
   ]
  },
  {
   "cell_type": "code",
   "execution_count": 9,
   "metadata": {},
   "outputs": [
    {
     "data": {
      "text/latex": [
       "$\\displaystyle \\left( q_{1}, \\  q_{2}, \\  q_{3}, \\  l_{1}\\right)$"
      ],
      "text/plain": [
       "(q1, q2, q3, l1)"
      ]
     },
     "execution_count": 9,
     "metadata": {},
     "output_type": "execute_result"
    }
   ],
   "source": [
    "#Decaracion de variables de forma simbolica\n",
    "q1,q2,q3,l1 = dynamicsymbols('q1 q2 q3 l1')\n",
    "#Imprimimos las variables declaradas\n",
    "q1,q2,q3,l1"
   ]
  },
  {
   "cell_type": "markdown",
   "metadata": {},
   "source": [
    "#### 5. Agregar las articulaciones y obtencion de su matriz de rotacion D-H."
   ]
  },
  {
   "cell_type": "code",
   "execution_count": 10,
   "metadata": {},
   "outputs": [],
   "source": [
    "def new_row_dh(theta_, d_, a_, alpha_):\n",
    "    \"\"\"\n",
    "    Esta funcion sirve para crear una nueva matriz de rotacion para el analisis de la articulacion en la posicion 'n'\n",
    "    Ademas ahorramos el reescribir la funcion y solo pasando los parametros indicados.\n",
    "    \"\"\"\n",
    "    return DH.subs({theta : theta_ , d : d_ , alpha : alpha_ , a : a_ })\n",
    "\n"
   ]
  },
  {
   "cell_type": "markdown",
   "metadata": {},
   "source": [
    "Una observacion es que para valores de los angulos de las rotaciones usaremos valores en radianes para esto utlizando la libreria sympy.\n",
    "\n",
    "---\n",
    "\n",
    "He aqui la demostracion grafica para la obtencion del valor de rotaciones en radianes.\n",
    "\n",
    "<img src='./img/radianes.gif'/>\n",
    "\n",
    "---\n",
    "\n",
    "**Ejemplos**\n",
    "\n",
    "* PI/2 = 90°\n",
    "* 2*PI = 360°\n"
   ]
  },
  {
   "cell_type": "markdown",
   "metadata": {},
   "source": [
    "**Articulacion 1, de la tabla 4.3**\n"
   ]
  },
  {
   "cell_type": "code",
   "execution_count": 11,
   "metadata": {},
   "outputs": [
    {
     "data": {
      "text/latex": [
       "$\\displaystyle \\left[\\begin{matrix}\\operatorname{cos}\\left(q_{1}\\right) & 0 & \\operatorname{sin}\\left(q_{1}\\right) & 0\\\\\\operatorname{sin}\\left(q_{1}\\right) & 0 & - \\operatorname{cos}\\left(q_{1}\\right) & 0\\\\0 & 1 & 0 & l_{1}\\\\0 & 0 & 0 & 1\\end{matrix}\\right]$"
      ],
      "text/plain": [
       "Matrix([\n",
       "[cos(q1), 0,  sin(q1),  0],\n",
       "[sin(q1), 0, -cos(q1),  0],\n",
       "[      0, 1,        0, l1],\n",
       "[      0, 0,        0,  1]])"
      ]
     },
     "execution_count": 11,
     "metadata": {},
     "output_type": "execute_result"
    }
   ],
   "source": [
    "#Pasamos los parametros correspondientes para esta articulacion\n",
    "\n",
    "#A la funcion deben pasarse los parametros del valor de theta,d,a,alpha respectivamente como lo demostrado a continuacion.\n",
    "# sp.pi/2 = 90 °\n",
    "a1 = new_row_dh(q1 ,l1,0,sp.pi/2)\n",
    "#Mostramos la matriz de dicha articulacion.\n",
    "a1"
   ]
  },
  {
   "cell_type": "markdown",
   "metadata": {},
   "source": [
    "**Articulacion 2, de la tabla 4.3**"
   ]
  },
  {
   "cell_type": "code",
   "execution_count": 12,
   "metadata": {},
   "outputs": [
    {
     "data": {
      "text/latex": [
       "$\\displaystyle \\left[\\begin{matrix}\\operatorname{cos}\\left(q_{2}\\right) & 0 & - \\operatorname{sin}\\left(q_{2}\\right) & 0\\\\\\operatorname{sin}\\left(q_{2}\\right) & 0 & \\operatorname{cos}\\left(q_{2}\\right) & 0\\\\0 & -1 & 0 & 0\\\\0 & 0 & 0 & 1\\end{matrix}\\right]$"
      ],
      "text/plain": [
       "Matrix([\n",
       "[cos(q2),  0, -sin(q2), 0],\n",
       "[sin(q2),  0,  cos(q2), 0],\n",
       "[      0, -1,        0, 0],\n",
       "[      0,  0,        0, 1]])"
      ]
     },
     "execution_count": 12,
     "metadata": {},
     "output_type": "execute_result"
    }
   ],
   "source": [
    "# -sp.pi/2 = -90 °\n",
    "a2 = new_row_dh(q2 ,0,0,-sp.pi/2)\n",
    "#Mostramos la matriz de dicha articulacion.\n",
    "a2"
   ]
  },
  {
   "cell_type": "markdown",
   "metadata": {},
   "source": [
    "**Articulacion 3, de la tabla 4.3**"
   ]
  },
  {
   "cell_type": "code",
   "execution_count": 13,
   "metadata": {},
   "outputs": [
    {
     "data": {
      "text/latex": [
       "$\\displaystyle \\left[\\begin{matrix}1 & 0 & 0 & 0\\\\0 & 1 & 0 & 0\\\\0 & 0 & 1 & q_{3}\\\\0 & 0 & 0 & 1\\end{matrix}\\right]$"
      ],
      "text/plain": [
       "Matrix([\n",
       "[1, 0, 0,  0],\n",
       "[0, 1, 0,  0],\n",
       "[0, 0, 1, q3],\n",
       "[0, 0, 0,  1]])"
      ]
     },
     "execution_count": 13,
     "metadata": {},
     "output_type": "execute_result"
    }
   ],
   "source": [
    "a3 = new_row_dh(0 ,q3,0,0)\n",
    "#Mostramos la matriz de dicha articulacion.\n",
    "a3"
   ]
  },
  {
   "cell_type": "markdown",
   "metadata": {},
   "source": [
    "**Obtenemos la matriz de DH**\n",
    "\n",
    "---\n",
    "\n",
    "Una vez hemos obtenido las matrices para cada articulacion, podemos obtener la matriz D-H, correspondiente al sistema.\n",
    "La matriz T define la orientación (submatriz de rotación) y posición (submatriz de traslación) del extremo referido a la base, en función de las n coordenadas articulares.\n"
   ]
  },
  {
   "cell_type": "code",
   "execution_count": 14,
   "metadata": {},
   "outputs": [
    {
     "name": "stdout",
     "output_type": "stream",
     "text": [
      "La matriz DH, para el robot polar de 3 GDL, es la siguiente: \n"
     ]
    },
    {
     "data": {
      "text/latex": [
       "$\\displaystyle \\left[\\begin{matrix}\\operatorname{cos}\\left(q_{1}\\right) \\operatorname{cos}\\left(q_{2}\\right) & - \\operatorname{sin}\\left(q_{1}\\right) & - \\operatorname{sin}\\left(q_{2}\\right) \\operatorname{cos}\\left(q_{1}\\right) & - q_{3} \\operatorname{sin}\\left(q_{2}\\right) \\operatorname{cos}\\left(q_{1}\\right)\\\\\\operatorname{sin}\\left(q_{1}\\right) \\operatorname{cos}\\left(q_{2}\\right) & \\operatorname{cos}\\left(q_{1}\\right) & - \\operatorname{sin}\\left(q_{1}\\right) \\operatorname{sin}\\left(q_{2}\\right) & - q_{3} \\operatorname{sin}\\left(q_{1}\\right) \\operatorname{sin}\\left(q_{2}\\right)\\\\\\operatorname{sin}\\left(q_{2}\\right) & 0 & \\operatorname{cos}\\left(q_{2}\\right) & l_{1} + q_{3} \\operatorname{cos}\\left(q_{2}\\right)\\\\0 & 0 & 0 & 1\\end{matrix}\\right]$"
      ],
      "text/plain": [
       "Matrix([\n",
       "[cos(q1)*cos(q2), -sin(q1), -sin(q2)*cos(q1), -q3*sin(q2)*cos(q1)],\n",
       "[sin(q1)*cos(q2),  cos(q1), -sin(q1)*sin(q2), -q3*sin(q1)*sin(q2)],\n",
       "[        sin(q2),        0,          cos(q2),     l1 + q3*cos(q2)],\n",
       "[              0,        0,                0,                   1]])"
      ]
     },
     "execution_count": 14,
     "metadata": {},
     "output_type": "execute_result"
    }
   ],
   "source": [
    "T = a1 * a2 * a3\n",
    "print('La matriz DH, para el robot polar de 3 GDL, es la siguiente: ')\n",
    "T"
   ]
  },
  {
   "cell_type": "markdown",
   "metadata": {},
   "source": [
    "## Creacion de libreria 'denavith.py'\n",
    "\n",
    "---\n",
    "\n",
    "Dada la constante necesidad de realizar matrices DH, se busco la manera de automatizar algunos pasos para su obtencion.7\n",
    "Como resultado la siguiente libreria, a continuacion se demostrara la resolucion del mismo ejemplo ya solucionado, esta vez resuelto con la libreria."
   ]
  },
  {
   "cell_type": "code",
   "execution_count": 15,
   "metadata": {},
   "outputs": [],
   "source": [
    "#Importamos la libreria creada \n",
    "import denavith as dh\n",
    "\n",
    "#Librerias para las variables simbolicas de nuestro modelo\n",
    "from sympy.physics.vector import init_vprinting\n",
    "init_vprinting(use_latex='mathjax', pretty_print=False)\n",
    "from sympy.physics.mechanics import dynamicsymbols"
   ]
  },
  {
   "cell_type": "code",
   "execution_count": 16,
   "metadata": {},
   "outputs": [
    {
     "data": {
      "text/latex": [
       "$\\displaystyle \\left( q_{1}, \\  q_{2}, \\  q_{3}, \\  l_{1}\\right)$"
      ],
      "text/plain": [
       "(q1, q2, q3, l1)"
      ]
     },
     "execution_count": 16,
     "metadata": {},
     "output_type": "execute_result"
    }
   ],
   "source": [
    "#Decaracion de variables de forma simbolica\n",
    "q1,q2,q3,l1 = dynamicsymbols('q1 q2 q3 l1')\n",
    "#Imprimimos las variables declaradas\n",
    "q1,q2,q3,l1"
   ]
  },
  {
   "cell_type": "code",
   "execution_count": 17,
   "metadata": {},
   "outputs": [],
   "source": [
    "#Creamos un resolvedor para el robot de este modelo\n",
    "robot_polar = dh.solver()"
   ]
  },
  {
   "cell_type": "code",
   "execution_count": 18,
   "metadata": {},
   "outputs": [],
   "source": [
    "robot_polar.reset_articulation_array()\n",
    "#Agregamos las articulaciones de la tabla obtenida DH para el modelo.\n",
    "robot_polar.add_articulation(q1 ,l1,0,sp.pi/2)\n",
    "robot_polar.add_articulation(q2 ,0,0,-sp.pi/2)\n",
    "robot_polar.add_articulation(0 ,q3,0,0)\n"
   ]
  },
  {
   "cell_type": "code",
   "execution_count": 19,
   "metadata": {},
   "outputs": [
    {
     "data": {
      "text/latex": [
       "$\\displaystyle \\left[ \\left[\\begin{matrix}\\operatorname{cos}\\left(q_{1}\\right) & 0 & \\operatorname{sin}\\left(q_{1}\\right) & 0\\\\\\operatorname{sin}\\left(q_{1}\\right) & 0 & - \\operatorname{cos}\\left(q_{1}\\right) & 0\\\\0 & 1 & 0 & l_{1}\\\\0 & 0 & 0 & 1\\end{matrix}\\right], \\  \\left[\\begin{matrix}\\operatorname{cos}\\left(q_{2}\\right) & 0 & - \\operatorname{sin}\\left(q_{2}\\right) & 0\\\\\\operatorname{sin}\\left(q_{2}\\right) & 0 & \\operatorname{cos}\\left(q_{2}\\right) & 0\\\\0 & -1 & 0 & 0\\\\0 & 0 & 0 & 1\\end{matrix}\\right], \\  \\left[\\begin{matrix}1 & 0 & 0 & 0\\\\0 & 1 & 0 & 0\\\\0 & 0 & 1 & q_{3}\\\\0 & 0 & 0 & 1\\end{matrix}\\right]\\right]$"
      ],
      "text/plain": [
       "[Matrix([\n",
       "[cos(q1), 0,  sin(q1),  0],\n",
       "[sin(q1), 0, -cos(q1),  0],\n",
       "[      0, 1,        0, l1],\n",
       "[      0, 0,        0,  1]]), Matrix([\n",
       "[cos(q2),  0, -sin(q2), 0],\n",
       "[sin(q2),  0,  cos(q2), 0],\n",
       "[      0, -1,        0, 0],\n",
       "[      0,  0,        0, 1]]), Matrix([\n",
       "[1, 0, 0,  0],\n",
       "[0, 1, 0,  0],\n",
       "[0, 0, 1, q3],\n",
       "[0, 0, 0,  1]])]"
      ]
     },
     "execution_count": 19,
     "metadata": {},
     "output_type": "execute_result"
    }
   ],
   "source": [
    "#Mostramos las matrices obtenidas\n",
    "robot_polar.get_articulation_array()"
   ]
  },
  {
   "cell_type": "code",
   "execution_count": 20,
   "metadata": {},
   "outputs": [
    {
     "name": "stdout",
     "output_type": "stream",
     "text": [
      "Matrix([[cos(q1(t)), 0, sin(q1(t)), 0], [sin(q1(t)), 0, -cos(q1(t)), 0], [0, 1, 0, l1(t)], [0, 0, 0, 1]])\n",
      "Matrix([[cos(q1(t))*cos(q2(t)), -sin(q1(t)), -sin(q2(t))*cos(q1(t)), 0], [sin(q1(t))*cos(q2(t)), cos(q1(t)), -sin(q1(t))*sin(q2(t)), 0], [sin(q2(t)), 0, cos(q2(t)), l1(t)], [0, 0, 0, 1]])\n",
      "Matrix([[cos(q1(t))*cos(q2(t)), -sin(q1(t)), -sin(q2(t))*cos(q1(t)), -q3(t)*sin(q2(t))*cos(q1(t))], [sin(q1(t))*cos(q2(t)), cos(q1(t)), -sin(q1(t))*sin(q2(t)), -q3(t)*sin(q1(t))*sin(q2(t))], [sin(q2(t)), 0, cos(q2(t)), l1(t) + q3(t)*cos(q2(t))], [0, 0, 0, 1]])\n"
     ]
    },
    {
     "data": {
      "text/latex": [
       "$\\displaystyle \\left[\\begin{matrix}\\operatorname{cos}\\left(q_{1}\\right) \\operatorname{cos}\\left(q_{2}\\right) & - \\operatorname{sin}\\left(q_{1}\\right) & - \\operatorname{sin}\\left(q_{2}\\right) \\operatorname{cos}\\left(q_{1}\\right) & - q_{3} \\operatorname{sin}\\left(q_{2}\\right) \\operatorname{cos}\\left(q_{1}\\right)\\\\\\operatorname{sin}\\left(q_{1}\\right) \\operatorname{cos}\\left(q_{2}\\right) & \\operatorname{cos}\\left(q_{1}\\right) & - \\operatorname{sin}\\left(q_{1}\\right) \\operatorname{sin}\\left(q_{2}\\right) & - q_{3} \\operatorname{sin}\\left(q_{1}\\right) \\operatorname{sin}\\left(q_{2}\\right)\\\\\\operatorname{sin}\\left(q_{2}\\right) & 0 & \\operatorname{cos}\\left(q_{2}\\right) & l_{1} + q_{3} \\operatorname{cos}\\left(q_{2}\\right)\\\\0 & 0 & 0 & 1\\end{matrix}\\right]$"
      ],
      "text/plain": [
       "Matrix([\n",
       "[cos(q1)*cos(q2), -sin(q1), -sin(q2)*cos(q1), -q3*sin(q2)*cos(q1)],\n",
       "[sin(q1)*cos(q2),  cos(q1), -sin(q1)*sin(q2), -q3*sin(q1)*sin(q2)],\n",
       "[        sin(q2),        0,          cos(q2),     l1 + q3*cos(q2)],\n",
       "[              0,        0,                0,                   1]])"
      ]
     },
     "execution_count": 20,
     "metadata": {},
     "output_type": "execute_result"
    }
   ],
   "source": [
    "#Mostramos el resultado DH.\n",
    "robot_polar.solve()"
   ]
  }
 ],
 "metadata": {
  "kernelspec": {
   "display_name": "Python 3",
   "language": "python",
   "name": "python3"
  },
  "language_info": {
   "codemirror_mode": {
    "name": "ipython",
    "version": 3
   },
   "file_extension": ".py",
   "mimetype": "text/x-python",
   "name": "python",
   "nbconvert_exporter": "python",
   "pygments_lexer": "ipython3",
   "version": "3.7.6"
  }
 },
 "nbformat": 4,
 "nbformat_minor": 4
}
