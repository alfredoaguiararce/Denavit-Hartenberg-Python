{
 "cells": [
  {
   "cell_type": "code",
   "execution_count": 1,
   "metadata": {},
   "outputs": [],
   "source": [
    "#Importamos la libreria creada \n",
    "import denavith as dh\n"
   ]
  },
  {
   "cell_type": "code",
   "execution_count": 2,
   "metadata": {},
   "outputs": [
    {
     "data": {
      "text/latex": [
       "$\\displaystyle \\left( q_{1}, \\  q_{2}, \\  q_{3}, \\  l_{1}\\right)$"
      ],
      "text/plain": [
       "(q1, q2, q3, l1)"
      ]
     },
     "execution_count": 2,
     "metadata": {},
     "output_type": "execute_result"
    }
   ],
   "source": [
    "#Decaracion de variables de forma simbolica\n",
    "q1,q2,q3,l1 = dh.simbolic('q1 q2 q3 l1')\n",
    "#Imprimimos las variables declaradas\n",
    "q1,q2,q3,l1"
   ]
  },
  {
   "cell_type": "code",
   "execution_count": 3,
   "metadata": {},
   "outputs": [],
   "source": [
    "#Creamos un resolvedor para el robot de este modelo\n",
    "robot_polar = dh.robot()"
   ]
  },
  {
   "cell_type": "code",
   "execution_count": 4,
   "metadata": {},
   "outputs": [
    {
     "data": {
      "text/latex": [
       "$\\displaystyle \\pi$"
      ],
      "text/plain": [
       "pi"
      ]
     },
     "execution_count": 4,
     "metadata": {},
     "output_type": "execute_result"
    }
   ],
   "source": [
    "dh.pi"
   ]
  },
  {
   "cell_type": "code",
   "execution_count": 5,
   "metadata": {},
   "outputs": [],
   "source": [
    "robot_polar.reset_articulation_array()\n",
    "#Agregamos las articulaciones de la tabla obtenida DH para el modelo.\n",
    "robot_polar.add_articulation(q1 ,l1,0,dh.pi/2)\n",
    "robot_polar.add_articulation(q2 ,0,0,-dh.pi/2)\n",
    "robot_polar.add_articulation(0 ,q3,0,0)\n"
   ]
  },
  {
   "cell_type": "code",
   "execution_count": 6,
   "metadata": {},
   "outputs": [
    {
     "data": {
      "text/latex": [
       "$\\displaystyle \\left[ \\left[\\begin{matrix}\\operatorname{cos}\\left(q_{1}\\right) & 0 & \\operatorname{sin}\\left(q_{1}\\right) & 0\\\\\\operatorname{sin}\\left(q_{1}\\right) & 0 & - \\operatorname{cos}\\left(q_{1}\\right) & 0\\\\0 & 1 & 0 & l_{1}\\\\0 & 0 & 0 & 1\\end{matrix}\\right], \\  \\left[\\begin{matrix}\\operatorname{cos}\\left(q_{2}\\right) & 0 & - \\operatorname{sin}\\left(q_{2}\\right) & 0\\\\\\operatorname{sin}\\left(q_{2}\\right) & 0 & \\operatorname{cos}\\left(q_{2}\\right) & 0\\\\0 & -1 & 0 & 0\\\\0 & 0 & 0 & 1\\end{matrix}\\right], \\  \\left[\\begin{matrix}1 & 0 & 0 & 0\\\\0 & 1 & 0 & 0\\\\0 & 0 & 1 & q_{3}\\\\0 & 0 & 0 & 1\\end{matrix}\\right]\\right]$"
      ],
      "text/plain": [
       "[Matrix([\n",
       "[cos(q1), 0,  sin(q1),  0],\n",
       "[sin(q1), 0, -cos(q1),  0],\n",
       "[      0, 1,        0, l1],\n",
       "[      0, 0,        0,  1]]), Matrix([\n",
       "[cos(q2),  0, -sin(q2), 0],\n",
       "[sin(q2),  0,  cos(q2), 0],\n",
       "[      0, -1,        0, 0],\n",
       "[      0,  0,        0, 1]]), Matrix([\n",
       "[1, 0, 0,  0],\n",
       "[0, 1, 0,  0],\n",
       "[0, 0, 1, q3],\n",
       "[0, 0, 0,  1]])]"
      ]
     },
     "execution_count": 6,
     "metadata": {},
     "output_type": "execute_result"
    }
   ],
   "source": [
    "#Mostramos las matrices obtenidas\n",
    "robot_polar.get_articulation_array()"
   ]
  },
  {
   "cell_type": "code",
   "execution_count": 7,
   "metadata": {},
   "outputs": [
    {
     "data": {
      "text/latex": [
       "$\\displaystyle \\left[\\begin{matrix}\\operatorname{cos}\\left(q_{1}\\right) \\operatorname{cos}\\left(q_{2}\\right) & - \\operatorname{sin}\\left(q_{1}\\right) & - \\operatorname{sin}\\left(q_{2}\\right) \\operatorname{cos}\\left(q_{1}\\right) & - q_{3} \\operatorname{sin}\\left(q_{2}\\right) \\operatorname{cos}\\left(q_{1}\\right)\\\\\\operatorname{sin}\\left(q_{1}\\right) \\operatorname{cos}\\left(q_{2}\\right) & \\operatorname{cos}\\left(q_{1}\\right) & - \\operatorname{sin}\\left(q_{1}\\right) \\operatorname{sin}\\left(q_{2}\\right) & - q_{3} \\operatorname{sin}\\left(q_{1}\\right) \\operatorname{sin}\\left(q_{2}\\right)\\\\\\operatorname{sin}\\left(q_{2}\\right) & 0 & \\operatorname{cos}\\left(q_{2}\\right) & l_{1} + q_{3} \\operatorname{cos}\\left(q_{2}\\right)\\\\0 & 0 & 0 & 1\\end{matrix}\\right]$"
      ],
      "text/plain": [
       "Matrix([\n",
       "[cos(q1)*cos(q2), -sin(q1), -sin(q2)*cos(q1), -q3*sin(q2)*cos(q1)],\n",
       "[sin(q1)*cos(q2),  cos(q1), -sin(q1)*sin(q2), -q3*sin(q1)*sin(q2)],\n",
       "[        sin(q2),        0,          cos(q2),     l1 + q3*cos(q2)],\n",
       "[              0,        0,                0,                   1]])"
      ]
     },
     "execution_count": 7,
     "metadata": {},
     "output_type": "execute_result"
    }
   ],
   "source": [
    "#Mostramos el resultado DH.\n",
    "robot_polar.solve()"
   ]
  },
  {
   "cell_type": "code",
   "execution_count": null,
   "metadata": {},
   "outputs": [],
   "source": []
  },
  {
   "cell_type": "code",
   "execution_count": null,
   "metadata": {},
   "outputs": [],
   "source": []
  }
 ],
 "metadata": {
  "kernelspec": {
   "display_name": "Python 3",
   "language": "python",
   "name": "python3"
  },
  "language_info": {
   "codemirror_mode": {
    "name": "ipython",
    "version": 3
   },
   "file_extension": ".py",
   "mimetype": "text/x-python",
   "name": "python",
   "nbconvert_exporter": "python",
   "pygments_lexer": "ipython3",
   "version": "3.8.5"
  }
 },
 "nbformat": 4,
 "nbformat_minor": 4
}
